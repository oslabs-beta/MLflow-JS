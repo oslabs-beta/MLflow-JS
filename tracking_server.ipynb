{
 "cells": [
  {
   "cell_type": "code",
   "execution_count": 8,
   "id": "0b03a7a7-8221-4eb1-857b-30e8db276c5f",
   "metadata": {
    "editable": true,
    "slideshow": {
     "slide_type": ""
    },
    "tags": []
   },
   "outputs": [
    {
     "name": "stderr",
     "output_type": "stream",
     "text": [
      "2024/08/29 02:00:25 INFO mlflow.utils.credentials: Successfully connected to MLflow hosted tracking server! Host: https://community.cloud.databricks.com.\n"
     ]
    }
   ],
   "source": [
    "import mlflow\n",
    "\n",
    "# Run the login function to authenticate with Databricks CE\n",
    "mlflow.login()\n"
   ]
  },
  {
   "cell_type": "code",
   "execution_count": 9,
   "id": "877ac3e8-915b-4a20-b1ab-7d28f387cf56",
   "metadata": {},
   "outputs": [
    {
     "name": "stderr",
     "output_type": "stream",
     "text": [
      "2024/08/29 02:00:34 INFO mlflow.tracking._tracking_service.client: 🏃 View run awesome-seal-612 at: https://community.cloud.databricks.com/ml/experiments/2597702965538188/runs/a4d786667a4f4e408d7a75d0062d959b.\n",
      "2024/08/29 02:00:34 INFO mlflow.tracking._tracking_service.client: 🧪 View experiment at: https://community.cloud.databricks.com/ml/experiments/2597702965538188.\n"
     ]
    }
   ],
   "source": [
    "\n",
    "# dummy experiment from tutorial\n",
    "mlflow.set_tracking_uri(\"databricks\")\n",
    "\n",
    "mlflow.set_experiment(\"/check-databricks-connection\")\n",
    "\n",
    "with mlflow.start_run():\n",
    "    mlflow.log_metric(\"foo\", 1)\n",
    "    mlflow.log_metric(\"bar\", 2)\n",
    "\n"
   ]
  },
  {
   "cell_type": "markdown",
   "id": "67f08a9e-e7f5-4358-b799-635a4b95faab",
   "metadata": {},
   "source": [
    "## Simple Model and MLflow Experiment with Iris Dataset\n",
    "Uses classic Iris dataset and RandomForest algo to train an ML model for classifying species of irises.\n",
    "\n",
    "### Key Steps\n",
    "1. Load dataset\n",
    "2. Split data set into training and testing subsets (0.7, 0.3)\n",
    "3. Train a Random Forest Classifier model\n",
    "4. Make predictions on the test data\n",
    "5. Calculate and log model accuracy to MLflow "
   ]
  },
  {
   "cell_type": "code",
   "execution_count": 13,
   "id": "68b36330-1b98-497b-ae82-bd814096f15a",
   "metadata": {},
   "outputs": [
    {
     "name": "stderr",
     "output_type": "stream",
     "text": [
      "2024/08/29 02:09:57 INFO mlflow.tracking._tracking_service.client: 🏃 View run rambunctious-asp-686 at: https://community.cloud.databricks.com/ml/experiments/2597702965538188/runs/c656feba1e3c4106a842bedcd931d475.\n",
      "2024/08/29 02:09:57 INFO mlflow.tracking._tracking_service.client: 🧪 View experiment at: https://community.cloud.databricks.com/ml/experiments/2597702965538188.\n",
      "2024/08/29 02:09:59 INFO mlflow.tracking._tracking_service.client: 🏃 View run adaptable-dove-810 at: https://community.cloud.databricks.com/ml/experiments/3146434618114174/runs/b0cd591459c1414a9bf9ba9968fb11da.\n",
      "2024/08/29 02:09:59 INFO mlflow.tracking._tracking_service.client: 🧪 View experiment at: https://community.cloud.databricks.com/ml/experiments/3146434618114174.\n",
      "2024/08/29 02:10:02 WARNING mlflow.models.model: Model logged without a signature. Signatures will be required for upcoming model registry features as they validate model inputs and denote the expected schema of model outputs. Please visit https://www.mlflow.org/docs/2.15.1/models.html#set-signature-on-logged-model for instructions on setting a model signature on your logged model.\n",
      "2024/08/29 02:10:06 WARNING mlflow.models.model: Input example should be provided to infer model signature if the model signature is not provided when logging the model.\n"
     ]
    },
    {
     "name": "stdout",
     "output_type": "stream",
     "text": [
      "Run ID: 2b75755ca9e641fcbb2c683a870a92d8\n",
      "Model Accuracy: 0.9777777777777777\n"
     ]
    }
   ],
   "source": [
    "from sklearn.datasets import load_iris\n",
    "from sklearn.ensemble import RandomForestClassifier\n",
    "from sklearn.metrics import accuracy_score\n",
    "from sklearn.model_selection import train_test_split\n",
    "import mlflow\n",
    "import mlflow.sklearn\n",
    "\n",
    "#kill old processes\n",
    "if mlflow.active_run():\n",
    "    mlflow.end_run()\n",
    "    \n",
    "#set url and experiment in databricks\n",
    "mlflow.set_tracking_uri('databricks')\n",
    "mlflow.set_experiment('/iris-random-forest')\n",
    "# start an mlflow experiment\n",
    "with mlflow.start_run():\n",
    "    # load iris dataset\n",
    "    data = load_iris()\n",
    "    # split data into train and test subsets\n",
    "    X_train, X_test, y_train, y_test = train_test_split(data.data, data.target, test_size=0.3, random_state=23)\n",
    "\n",
    "# train RandomForest model\n",
    "model = RandomForestClassifier(n_estimators=100, random_state=42)\n",
    "model.fit(X_train, y_train)\n",
    "\n",
    "# predict\n",
    "predictions = model.predict(X_test)\n",
    "\n",
    "# calaculate accuracy\n",
    "accuracy = accuracy_score(y_test, predictions)\n",
    "\n",
    "# track model and metrix in mlflow\n",
    "mlflow.sklearn.log_model(model, 'model')\n",
    "mlflow.log_metric('accuracy', accuracy)\n",
    "\n",
    "print('Run ID:', mlflow.active_run().info.run_id)\n",
    "print('Model Accuracy:', accuracy)\n",
    "\n"
   ]
  },
  {
   "cell_type": "code",
   "execution_count": null,
   "id": "e45e2472-6674-48e1-a9bf-2b980392a9db",
   "metadata": {},
   "outputs": [],
   "source": []
  },
  {
   "cell_type": "code",
   "execution_count": null,
   "id": "cdd0370c-7997-4231-9d25-a221c6dced27",
   "metadata": {},
   "outputs": [],
   "source": []
  }
 ],
 "metadata": {
  "kernelspec": {
   "display_name": "Python 3 (ipykernel)",
   "language": "python",
   "name": "python3"
  },
  "language_info": {
   "codemirror_mode": {
    "name": "ipython",
    "version": 3
   },
   "file_extension": ".py",
   "mimetype": "text/x-python",
   "name": "python",
   "nbconvert_exporter": "python",
   "pygments_lexer": "ipython3",
   "version": "3.9.6"
  }
 },
 "nbformat": 4,
 "nbformat_minor": 5
}
